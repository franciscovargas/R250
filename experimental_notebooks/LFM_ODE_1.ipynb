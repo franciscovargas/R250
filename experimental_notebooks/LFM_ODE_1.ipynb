{
 "cells": [
  {
   "cell_type": "code",
   "execution_count": 1,
   "metadata": {},
   "outputs": [],
   "source": [
    "import autograd.numpy as np \n",
    "from autograd import grad, elementwise_grad, jacobian, make_jvp \n",
    "from autograd.scipy.special import erf\n",
    "\n",
    "import GPy\n",
    "from GPy.kern import Kern\n",
    "from GPy.core.parameterization.param import Param\n",
    "\n",
    "import matplotlib.pyplot as plt"
   ]
  },
  {
   "cell_type": "markdown",
   "metadata": {},
   "source": [
    "## Loopy Implementations used to test correctness"
   ]
  },
  {
   "cell_type": "code",
   "execution_count": 2,
   "metadata": {},
   "outputs": [],
   "source": [
    "def hq_old(tmat1, tmat2, lq, bvec, svec, debug=False):\n",
    "    \n",
    "    n1, d = tmat1.shape\n",
    "    n2, d = tmat2.shape\n",
    "    \n",
    "    out = np.zeros((n1 * d, n2 * d))\n",
    "    \n",
    "    for d1 in range(d):\n",
    "        \n",
    "        bd1 = bvec[d1]\n",
    "        vd1 = bd1 * lq * 0.5\n",
    "        td1 = tmat1[:,d1]\n",
    "        sd1 = svec[d1]\n",
    "        \n",
    "        fac = np.exp(vd1**2 - bd1 * td1[..., None]) \n",
    "        \n",
    "        erf_minus = erf( td1[..., None] / lq - vd1 ) +  erf( vd1 )\n",
    "        for d2 in range(d):\n",
    "            bd2 = bvec[d2]\n",
    "            td2 = tmat2[:,d2]\n",
    "            sd2 = svec[d2]\n",
    "            \n",
    "            fac_ = fac / (bd1 + bd2)\n",
    "            \n",
    "            delta = (td1[...,None] - td2)\n",
    "            erf_plus = erf(  delta / lq - vd1 ) +  erf( td2[None, ...] / lq + vd1 )\n",
    "            \n",
    "            \n",
    "            erf_minus_ = np.dot(np.exp(-bd2 * td2[..., None]), erf_minus.reshape(1, -1) ).T\n",
    "\n",
    "\n",
    "            \n",
    "            all_terms = fac_.reshape(-1,1) * (np.exp(bd1 * td2[None, ...]) * erf_plus - erf_minus_)\n",
    "            if d1 == d2 and debug:\n",
    "                print(np.diag(all_terms))\n",
    "\n",
    "            out[n1*d1:n1*(d1 +1), n2*d2:n2*(d2 +1)] = sd1 * sd2 * all_terms\n",
    "    return out\n"
   ]
  },
  {
   "cell_type": "code",
   "execution_count": 3,
   "metadata": {},
   "outputs": [],
   "source": [
    "def hq_individual(t1, t2, lq, bd1, vd1, bd2):\n",
    "    fac = np.exp(vd1**2 - bd1 * t1) / (bd1 + bd2)\n",
    "    erf_plus = np.exp(bd1 * t2) * ( erf((t1-t2)/lq - vd1 ) + erf(t2/lq + vd1 ) )\n",
    "\n",
    "    erf_minus = np.exp(-bd2 * t2) * ( erf(t1/lq - vd1) + erf(vd1) )\n",
    "\n",
    "    all_terms = fac * ( erf_plus - erf_minus  ) \n",
    "    return all_terms\n",
    "\n",
    "def hq_test(tmat1, tmat2, lq, bvec, svec, debug=False):\n",
    "    \n",
    "    n1, d = tmat1.shape\n",
    "    n2, d = tmat2.shape\n",
    "    \n",
    "    out = np.zeros((n1 * d, n2 * d))\n",
    "    \n",
    "    for d1 in range(d):\n",
    "        \n",
    "        bd1 = bvec[d1]\n",
    "        vd1 = bd1 * lq * 0.5\n",
    "        td1 = tmat1[:,d1]\n",
    "        sd1 = svec[d1]\n",
    "        \n",
    "\n",
    "        for d2 in range(d):\n",
    "            bd2 = bvec[d2]\n",
    "            td2 = tmat2[:,d2]\n",
    "            sd2 = svec[d2]\n",
    "            \n",
    "            for i, t1 in enumerate(td1):\n",
    "                for j, t2 in enumerate(td2):\n",
    "                    all_terms = hq_individual(t1, t2, lq, bd1, vd1, bd2)\n",
    "                    out[i * ( d1 + 1 ), j * (d2 + 1)] = sd1 * sd2 * all_terms\n",
    "    return out\n",
    "\n",
    "\n",
    "def hq_test2(tmat1, tmat2, lq, bvec, svec, debug=False):\n",
    "    \n",
    "    n1, d = tmat1.shape\n",
    "    n2, d = tmat2.shape\n",
    "    \n",
    "    out = np.zeros((n1 * d, n2 * d))\n",
    "    \n",
    "    for d1 in range(d):\n",
    "        \n",
    "        bd1 = bvec[d1]\n",
    "        vd1 = bd1 * lq * 0.5\n",
    "        td1 = tmat1[:,d1]\n",
    "        sd1 = svec[d1]\n",
    "        \n",
    "\n",
    "        for d2 in range(d):\n",
    "            bd2 = bvec[d2]\n",
    "            td2 = tmat2[:,d2]\n",
    "            sd2 = svec[d2]\n",
    "            \n",
    "            for i, t1 in enumerate(td1):\n",
    "                for j, t2 in enumerate(td2):\n",
    "                    all_terms = hq_individual(t1, t2, lq, bd1, vd1, bd2) + hq_individual(t2, t1, lq, bd1, vd1, bd2)\n",
    "\n",
    "                    out[i * ( d1 + 1 ), j * (d2 + 1)] = sd1 * sd2 * all_terms\n",
    "    return out"
   ]
  },
  {
   "cell_type": "markdown",
   "metadata": {},
   "source": [
    "## Vectorised Kernel And Gradients"
   ]
  },
  {
   "cell_type": "code",
   "execution_count": 6,
   "metadata": {},
   "outputs": [],
   "source": [
    "def hq(tmat1, tmat2, lq, bvec, svec, debug=False):\n",
    "    \n",
    "    n1, d = tmat1.shape\n",
    "    n2, d = tmat2.shape\n",
    "    \n",
    "    out = None\n",
    "    \n",
    "    for d1 in range(d):\n",
    "        bd1 = bvec[d1]\n",
    "        vd1 = bd1 * lq * 0.5\n",
    "        td1 = tmat1[:,d1]\n",
    "        sd1 = svec[d1]\n",
    "        \n",
    "        fac = np.exp(vd1**2 - bd1 * td1[...,None]) \n",
    "        \n",
    "        erf_minus = erf( td1[..., None] / lq - vd1 ) +  erf( vd1 )\n",
    "        for d2 in range(d):\n",
    "            bd2 = bvec[d2]\n",
    "            td2 = tmat2[:,d2]\n",
    "            sd2 = svec[d2]\n",
    "            \n",
    "            fac_ = fac / (bd1 + bd2)\n",
    "            \n",
    "            delta = (td1[...,None] - td2)\n",
    "            erf_plus = erf(  delta / lq - vd1 ) +  erf( td2[None, ...] / lq + vd1 )\n",
    "            \n",
    "            \n",
    "            erf_minus_ = np.dot(np.exp(-bd2 * td2[..., None]), erf_minus.reshape(1, -1) ).T\n",
    "            \n",
    "            all_terms = fac_.reshape(-1,1) * (np.exp(bd1 * td2[None, ...]) * erf_plus - erf_minus_)\n",
    "            \n",
    "            \n",
    "            if out is None:\n",
    "                out = (sd1 * sd2 * all_terms)[None, ...]\n",
    "            else:\n",
    "                out = np.concatenate((out, (sd1 * sd2 * all_terms)[None,...] ), axis=0)\n",
    "    out = out.reshape(d,d,n1, n2)\n",
    "    return np.transpose(out, (0,2,1,3)).reshape(n1 *d , n2 * d)\n",
    "\n",
    "\n",
    "\n",
    "def k_f(tmat1, tmat2, lvec, bvec, Smat, debug=False,hq=hq):\n",
    "    q = lvec.shape[0]\n",
    "    n1, d = tmat1.shape\n",
    "    n2, d = tmat2.shape\n",
    "    \n",
    "    kf = np.zeros((n1 * d, n2 * d))\n",
    "    \n",
    "    for i_q in range(q):\n",
    "        h_q1 = hq(tmat1, tmat2, lvec[i_q], bvec, Smat[i_q], False)\n",
    "        h_q2 = hq(tmat2, tmat1, lvec[i_q], bvec, Smat[i_q], False)\n",
    "        \n",
    "        if debug:\n",
    "        \n",
    "            htest = hq_old(tmat1, tmat2, lvec[i_q], bvec, Smat[i_q])\n",
    "            print((htest ==h_q1).all())\n",
    "            htest = hq_old(tmat2, tmat1, lvec[i_q], bvec, Smat[i_q])\n",
    "            print((htest ==h_q2).all())\n",
    "            plt.imshow(h_q1 + h_q2.T  )\n",
    "            plt.show()\n",
    "                \n",
    "        svec = Smat[i_q]\n",
    "       \n",
    "        kf += 0.5 * lvec[i_q] * np.sqrt(np.pi) * ( h_q1 + h_q2.T  )\n",
    "        \n",
    "    return kf\n",
    "\n",
    "\n",
    "def grad_kf(tmat1, tmat2, lvec, bvec, Smat):\n",
    "    \n",
    "    \n",
    "    gradient_funcs = [jacobian(k_f, pi) for pi in (2,3,4)]\n",
    "    gradients = [gradient(tmat1,tmat2, lvec, bvec, Smat) for gradient in gradient_funcs]\n",
    "    return gradients"
   ]
  },
  {
   "cell_type": "code",
   "execution_count": 8,
   "metadata": {},
   "outputs": [
    {
     "name": "stdout",
     "output_type": "stream",
     "text": [
      "True\n",
      "True\n"
     ]
    },
    {
     "data": {
      "image/png": "[encoded data removed]",
      "text/plain": [
       "<Figure size 432x288 with 1 Axes>"
      ]
     },
     "metadata": {
      "needs_background": "light"
     },
     "output_type": "display_data"
    },
    {
     "data": {
      "image/png": "[encoded data removed]",
      "text/plain": [
       "<Figure size 432x288 with 1 Axes>"
      ]
     },
     "metadata": {
      "needs_background": "light"
     },
     "output_type": "display_data"
    },
    {
     "name": "stdout",
     "output_type": "stream",
     "text": [
      "True\n"
     ]
    }
   ],
   "source": [
    "test = True\n",
    "if test:\n",
    "    q, d = 1, 1\n",
    "    n = 20\n",
    "\n",
    "    lvec2 = np.ones(q)\n",
    "    bvec2 = np.ones(d)\n",
    "    Smat2 = np.ones((q, d))\n",
    "\n",
    "\n",
    "    t12 = np.linspace(0,1, n).repeat(d).reshape(n,d)\n",
    "\n",
    "    t22 =  np.linspace(0,1, n-1).repeat(d).reshape(n-1,d)\n",
    "    kek = k_f( t12,  t12, lvec2, bvec2, Smat2, debug=True) \n",
    "\n",
    "    plt.imshow(kek)\n",
    "    plt.show()\n",
    "    print((k_f(t12,t22, lvec2, bvec2, Smat2) == k_f(t12,t22, lvec2, bvec2, Smat2, hq=hq_old)).all())"
   ]
  },
  {
   "cell_type": "code",
   "execution_count": 55,
   "metadata": {},
   "outputs": [
    {
     "data": {
      "image/png": "[encoded data removed]",
      "text/plain": [
       "<Figure size 432x288 with 1 Axes>"
      ]
     },
     "metadata": {
      "needs_background": "light"
     },
     "output_type": "display_data"
    }
   ],
   "source": [
    "q, d = 1,1\n",
    "lvec = 0.00001*np.ones(q)\n",
    "bvec = -1 * np.ones(d)\n",
    "Smat = 0.0001 * np.ones((q, d))\n",
    "\n",
    "t1 = np.linspace(0,3, 100).reshape(-1,1)\n",
    "\n",
    "kn = k_f(t1, t1, np.array([1.34]), np.array([-0.99]), np.array([[2.34]]))\n",
    "\n",
    "guys = np.random.multivariate_normal(np.zeros(kn.shape[0]), kn, 10)\n",
    "guys.shape\n",
    "[plt.plot(t1, guy) for guy in guys];"
   ]
  },
  {
   "cell_type": "code",
   "execution_count": 10,
   "metadata": {},
   "outputs": [
    {
     "data": {
      "image/png": "[encoded data removed]",
      "text/plain": [
       "<Figure size 432x288 with 1 Axes>"
      ]
     },
     "metadata": {
      "needs_background": "light"
     },
     "output_type": "display_data"
    }
   ],
   "source": [
    "def k_yd_fq(tmat1, tmat2, lq, bvec, Smat, debug=False,hq=hq):\n",
    "    d = bvec.shape[0]\n",
    "    out = np.zeros((d * tmat1.shape[0], tmat2.shape[0]))\n",
    "    for d1 in range(d):\n",
    "        bd1 = bvec[d1]\n",
    "        vd1 = bd1 * lq * 0.5\n",
    "        td1 = tmat1[:,d1]\n",
    "        td2 = tmat2[:,d1]\n",
    "        sd1 = Smat[d1]\n",
    "        \n",
    "        \n",
    "        \n",
    "        delta = (td1[...,None] - td2)\n",
    "        \n",
    "        fac = np.exp(vd1**2 - bd1 * delta) \n",
    "        \n",
    "        erf_plus = erf(  delta / lq - vd1 ) +  erf( td2[None, ...] / lq + vd1 )\n",
    "        out[d1 * tmat1.shape[0]: (d1 + 1) * tmat1.shape[0],:] = 0.5 * np.sqrt(np.pi) * lq * Smat[d1]  * fac * erf_plus\n",
    "    return out\n",
    "\n",
    "\n",
    "kfy = k_yd_fq(t12,t22, lvec2[0], bvec2, Smat2)\n",
    "plt.imshow(kfy)\n",
    "plt.show()"
   ]
  },
  {
   "cell_type": "code",
   "execution_count": 11,
   "metadata": {},
   "outputs": [],
   "source": [
    "def diag_hq(tmat, lq, bvec, svec):\n",
    "    \n",
    "    n, d = tmat.shape\n",
    "    \n",
    "    out = None\n",
    "    \n",
    "    for d1 in range(d):\n",
    "        bd = bvec[d1]\n",
    "        vd =  bd * lq * 0.5\n",
    "        td = tmat[:,d1]\n",
    "        sd = svec[d1]\n",
    "        \n",
    "        fac = np.exp(vd**2 - bd * td) / 2 * bd\n",
    "        \n",
    "        erf_minus = erf( td / lq - vd ) +  erf( vd )\n",
    "\n",
    "        delta = np.zeros(n)\n",
    "        erf_plus = erf(  delta / lq - vd ) +  erf( td / lq + vd )\n",
    "\n",
    "\n",
    "        erf_minus_ = np.exp(-bd * td) * erf_minus\n",
    "\n",
    "        all_terms = fac * (np.exp(bd * td) * erf_plus - erf_minus_)\n",
    "\n",
    "\n",
    "        if out is None:\n",
    "            out = (sd * sd * all_terms)[..., None]\n",
    "        else:\n",
    "            out = np.concatenate((out, (sd * sd * all_terms)[..., None] ), axis=0)\n",
    "    return out.reshape(n *d , 1)\n",
    "\n",
    "\n",
    "def diag_k_f(tmat, lvec, bvec, Smat, debug=False):\n",
    "    q = lvec.shape[0]\n",
    "    n, d = tmat.shape\n",
    "    \n",
    "    kf = np.zeros(n * d)\n",
    "    for i_q in range(q):\n",
    "        h_q = diag_hq(tmat, lvec[i_q], bvec, Smat[i_q])\n",
    "        \n",
    "        kf += np.squeeze(lvec[i_q] * np.sqrt(np.pi) * h_q)\n",
    "        \n",
    "    return kf\n"
   ]
  },
  {
   "cell_type": "markdown",
   "metadata": {},
   "source": [
    "#### Testing Diag"
   ]
  },
  {
   "cell_type": "code",
   "execution_count": 12,
   "metadata": {},
   "outputs": [
    {
     "name": "stdout",
     "output_type": "stream",
     "text": [
      "[0. 0. 0. 0. 0. 0. 0. 0. 0. 0. 0. 0. 0. 0. 0. 0. 0. 0. 0. 0. 0. 0. 0. 0.\n",
      " 0. 0. 0. 0. 0. 0. 0. 0. 0. 0. 0. 0. 0. 0. 0. 0.]\n"
     ]
    }
   ],
   "source": [
    "q, d = 1, 2\n",
    "n = 20\n",
    "\n",
    "lvec2 = np.ones(q)\n",
    "bvec2 = np.ones(d)\n",
    "Smat2 = np.ones((q, d))\n",
    "\n",
    "\n",
    "t12 = np.linspace(0,1, n).repeat(2).reshape(n,d)\n",
    "\n",
    "t22 =  np.linspace(0,1, n-1).repeat(2).reshape(n-1,2)\n",
    "\n",
    "kern = k_f(t12,t12, lvec2, bvec2, Smat2, hq=hq)\n",
    "truediag = np.diag(kern)\n",
    "\n",
    "diag_fast = diag_k_f(t12, lvec2, bvec2, Smat2)\n",
    "print(np.abs(diag_fast - truediag))"
   ]
  },
  {
   "cell_type": "markdown",
   "metadata": {},
   "source": [
    "## Kernel Class"
   ]
  },
  {
   "cell_type": "code",
   "execution_count": 13,
   "metadata": {},
   "outputs": [],
   "source": [
    "class LFM1(GPy.kern.Kern):\n",
    "    \n",
    "    def __init__(self,input_dim, bvec=np.array([1.0]),\n",
    "                 lengthscales=np.array([1.0]),\n",
    "                 Smat=np.array([[1.0]]),\n",
    "                 active_dims=None):\n",
    "    \n",
    "        super(LFM1, self).__init__(input_dim, active_dims, 'LFM1')\n",
    "        \n",
    "        assert input_dim == 1, \"For this kernel we assume input_dim=1\"\n",
    "        self.bvec = Param('bvec', bvec)\n",
    "        self.lengthscales = Param('lengthscales', lengthscales)\n",
    "        self.Smat = Param('Smat', Smat)\n",
    "        self.link_parameters(self.bvec, self.lengthscales, self.Smat)\n",
    "        self.show = False\n",
    "    \n",
    "    def K(self,X,X2):\n",
    "        if X2 is None: X2 = X\n",
    "        k =  k_f(X, X2, self.lengthscales, self.bvec, self.Smat, debug=False, hq=hq)\n",
    "        return k \n",
    "    \n",
    "    def K_y_f(self, X, X2, q):\n",
    "        k =  k_yd_fq(X, X2, self.lengthscales[q], self.bvec, self.Smat[q], debug=False, hq=hq)\n",
    "        return k\n",
    "    \n",
    "    def K_ff(self, X, X2, q):\n",
    "        lq = self.lengthscales[q]\n",
    "        return np.exp(-(X[...,None] - X2 )**2/ lq**2)\n",
    "    \n",
    "    def Kdiag(self, X):\n",
    "        return diag_k_f(X, self.lengthscales, self.bvec, self.Smat, debug=False)\n",
    "    \n",
    "    def update_gradients_full(self, dL_dK, X, X2):\n",
    "        if X2 is None: X2 = X\n",
    "\n",
    "        gradients = grad_kf(X, X2, self.lengthscales.values, self.bvec.values, self.Smat.values)\n",
    "\n",
    "        db = gradients[1]\n",
    "        dl = gradients[0]\n",
    "        dS = gradients[2]\n",
    "\n",
    "        self.bvec.gradient = np.sum(db * dL_dK[..., None], axis=(0,1))\n",
    "        self.lengthscales.gradient = np.sum(dl * dL_dK[..., None], axis=(0,1))\n",
    "        self.Smat.gradient = np.sum(dS * dL_dK[..., None, None], axis=(0,1))\n"
   ]
  },
  {
   "cell_type": "markdown",
   "metadata": {},
   "source": [
    "## GPy Experiments"
   ]
  },
  {
   "cell_type": "code",
   "execution_count": 105,
   "metadata": {
    "scrolled": true
   },
   "outputs": [
    {
     "data": {
      "image/png": "[encoded data removed]",
      "text/plain": [
       "<Figure size 432x288 with 1 Axes>"
      ]
     },
     "metadata": {
      "needs_background": "light"
     },
     "output_type": "display_data"
    },
    {
     "data": {
      "application/vnd.jupyter.widget-view+json": {
       "model_id": "20dda37e9c1943de87b4edf5aa38c82a",
       "version_major": 2,
       "version_minor": 0
      },
      "text/plain": [
       "HBox(children=(VBox(children=(IntProgress(value=0, max=200), HTML(value=''))), Box(children=(HTML(value=''),))…"
      ]
     },
     "metadata": {},
     "output_type": "display_data"
    },
    {
     "name": "stdout",
     "output_type": "stream",
     "text": [
      "None\n"
     ]
    },
    {
     "data": {
      "text/plain": [
       "<Figure size 432x288 with 0 Axes>"
      ]
     },
     "metadata": {},
     "output_type": "display_data"
    },
    {
     "data": {
      "image/png": "[encoded data removed]",
      "text/plain": [
       "<Figure size 432x288 with 1 Axes>"
      ]
     },
     "metadata": {
      "needs_background": "light"
     },
     "output_type": "display_data"
    }
   ],
   "source": [
    "shift = 0\n",
    "end =10\n",
    "t1 = np.linspace(0,end, 50).reshape(-1,1)  + shift\n",
    "# t1 = np.linspace(0,20, 30).reshape(-1,1)\n",
    "\n",
    "\n",
    "# create simple GP Model\n",
    "kernel_lfm1 = LFM1(input_dim=1, bvec=np.array([1.0]),\n",
    "                 lengthscales=np.array([1.0]),\n",
    "                 Smat=np.array([[1.0]]))\n",
    "\n",
    "\n",
    "# y1 = np.exp(t1)  * (t1)\n",
    "\n",
    "# y1 = np.exp(0.1 * t1) * (np.sin(t1) - np.cos(t1)) / (0.1**2 + 1)\n",
    "b = 30\n",
    "# y1 = (1.0 / (b**2 +1)) *  (b * np.exp( t1) - np.sin(b * t1) - np.cos(b * t1))\n",
    "# y1 =  np.exp(t1-0.5)  * erf(t1 / np.sqrt(2))\n",
    "# y1 = np.exp(2 * t1)\n",
    "y1 = t1 * np.exp(t1)\n",
    "plt.plot(t1, y1)\n",
    "plt.show()\n",
    "\n",
    "\n",
    "kernel = GPy.kern.RBF(t1.shape[1])\n",
    "\n",
    "likelihood = GPy.likelihoods.Gaussian(variance=1)\n",
    "\n",
    "m = GPy.models.GPRegression(t1, y1 , kernel=kernel_lfm1)\n",
    "\n",
    "\n",
    "optimize = True\n",
    "plot = True\n",
    "if optimize:\n",
    "    m.optimize('bfgs', max_iters=200, messages=True)\n",
    "if plot:\n",
    "    print(m.normalizer)\n",
    "#     m.normalizer = False\n",
    "    plt.show()\n",
    "    plt.figure()\n",
    "    m.plot(plot_limits=(0 + shift,  end+ shift))\n",
    "    \n",
    "    plt.show()\n",
    "    tstar =  np.linspace(0 + shift,end + shift, 100).reshape(-1,1)\n",
    "\n",
    "\n",
    "    k_train =  m.kern.K(t1,t1)\n"
   ]
  },
  {
   "cell_type": "code",
   "execution_count": 107,
   "metadata": {},
   "outputs": [
    {
     "data": {
      "text/plain": [
       "{'dataplot': [<matplotlib.collections.PathCollection at 0x1dc6b3c9348>],\n",
       " 'gpmean': [[<matplotlib.lines.Line2D at 0x1dc6b619a88>]],\n",
       " 'gpconfidence': [<matplotlib.collections.PolyCollection at 0x1dc6aff9dc8>]}"
      ]
     },
     "execution_count": 107,
     "metadata": {},
     "output_type": "execute_result"
    },
    {
     "data": {
      "image/png": "[encoded data removed]",
      "text/plain": [
       "<Figure size 432x288 with 1 Axes>"
      ]
     },
     "metadata": {
      "needs_background": "light"
     },
     "output_type": "display_data"
    }
   ],
   "source": [
    "to = np.linspace(0+shift, end+20+shift)\n",
    "m.plot(plot_limits=(0 + shift, end + 20+ shift))\n",
    "# plt.plot(to, np.exp(to-0.5)  * erf(to / np.sqrt(2)), 'r')"
   ]
  },
  {
   "cell_type": "markdown",
   "metadata": {},
   "source": [
    "### Latent Force"
   ]
  },
  {
   "cell_type": "code",
   "execution_count": 108,
   "metadata": {},
   "outputs": [],
   "source": [
    "from scipy.linalg import pinvh\n",
    "\n",
    "def latent_force(model, X, q=0):\n",
    "    Xtrain = np.array(model.X)\n",
    "    Ytrain = np.array(model.Y)\n",
    "    Kyf  = model.kern.K_y_f(Xtrain, X, q)\n",
    "    Kyy = model.kern.K(Xtrain)\n",
    "    Kyy += np.sqrt(model.likelihood.variance) * np.eye(Kyy.shape[0])\n",
    "    Kyyinv = pinvh(Kyy)\n",
    "    \n",
    "    Kff =  np.squeeze(model.kern.K_ff(X,X, q))\n",
    "    W =  ((Kyf.T).dot(Kyyinv))\n",
    "    \n",
    "    cross_term = W.dot(Kyf)\n",
    "    \n",
    "    sigma = Kff - cross_term\n",
    "    return (W).dot(Ytrain), np.sqrt(np.diag(sigma))\n",
    "\n",
    "tstar =  np.linspace(0,end, 100).reshape(-1,1)\n",
    "# mu_pred , sigma_pred =  m.predict(tstar, full_cov=False)\n",
    "# sigma_pred = np.sqrt(sigma_pred).flatten()\n",
    "\n",
    "mu_lfm, sigma_lfm = latent_force(m, tstar)\n",
    "mu_lfm = mu_lfm.flatten()\n",
    "sigma_lfm = sigma_lfm.flatten()"
   ]
  },
  {
   "cell_type": "code",
   "execution_count": 109,
   "metadata": {},
   "outputs": [
    {
     "data": {
      "text/plain": [
       "<matplotlib.legend.Legend at 0x1dc6b14dcc8>"
      ]
     },
     "execution_count": 109,
     "metadata": {},
     "output_type": "execute_result"
    },
    {
     "data": {
      "image/png": "[encoded data removed]",
      "text/plain": [
       "<Figure size 432x288 with 1 Axes>"
      ]
     },
     "metadata": {
      "needs_background": "light"
     },
     "output_type": "display_data"
    }
   ],
   "source": [
    "\n",
    "\n",
    "# plt.plot(tstar, mu_pred, label=\"$\\mu$ prediction\")\n",
    "# plt.fill_between(tstar.flatten(), mu_pred.flatten()-2*sigma_pred, mu_pred.flatten()+2*sigma_pred, alpha=.2, label=\"$\\sigma$ prediction\")\n",
    "\n",
    "plt.plot(tstar, mu_lfm, label=\"$\\mu$ latent force\")\n",
    "plt.fill_between(tstar.flatten(), mu_lfm-2*sigma_lfm, mu_lfm+2*sigma_lfm, alpha=.2, label=\"$\\sigma$ latent force\")\n",
    "plt.legend()"
   ]
  },
  {
   "cell_type": "code",
   "execution_count": 75,
   "metadata": {},
   "outputs": [],
   "source": [
    "lfmold = mu_lfm.copy()"
   ]
  },
  {
   "cell_type": "code",
   "execution_count": 85,
   "metadata": {},
   "outputs": [
    {
     "data": {
      "text/plain": [
       "array([ True,  True,  True,  True,  True,  True,  True,  True,  True,\n",
       "        True,  True,  True,  True,  True,  True,  True,  True,  True,\n",
       "        True,  True,  True,  True,  True,  True,  True,  True,  True,\n",
       "        True,  True,  True,  True,  True,  True,  True,  True,  True,\n",
       "        True,  True,  True,  True,  True,  True,  True,  True,  True,\n",
       "        True,  True,  True,  True,  True,  True,  True,  True,  True,\n",
       "        True,  True,  True,  True,  True,  True,  True,  True,  True,\n",
       "        True,  True,  True,  True,  True,  True,  True,  True,  True,\n",
       "        True,  True,  True,  True,  True,  True,  True,  True,  True,\n",
       "        True,  True,  True,  True,  True,  True,  True,  True,  True,\n",
       "        True,  True,  True,  True,  True,  True,  True,  True,  True,\n",
       "        True])"
      ]
     },
     "execution_count": 85,
     "metadata": {},
     "output_type": "execute_result"
    }
   ],
   "source": [
    "mu_lfm == mu_lfm\n"
   ]
  },
  {
   "cell_type": "code",
   "execution_count": null,
   "metadata": {},
   "outputs": [],
   "source": []
  }
 ],
 "metadata": {
  "kernelspec": {
   "display_name": "Python 3",
   "language": "python",
   "name": "python3"
  },
  "language_info": {
   "codemirror_mode": {
    "name": "ipython",
    "version": 3
   },
   "file_extension": ".py",
   "mimetype": "text/x-python",
   "name": "python",
   "nbconvert_exporter": "python",
   "pygments_lexer": "ipython3",
   "version": "3.7.4"
  }
 },
 "nbformat": 4,
 "nbformat_minor": 2
}
